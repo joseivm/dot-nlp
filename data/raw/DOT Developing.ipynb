{
 "cells": [
  {
   "cell_type": "code",
   "execution_count": 1,
   "metadata": {},
   "outputs": [],
   "source": [
    "import pandas as pd\n",
    "import numpy as np"
   ]
  },
  {
   "cell_type": "code",
   "execution_count": 23,
   "metadata": {},
   "outputs": [],
   "source": [
    "with open('1977_Output.txt','rb') as f:\n",
    "    dot = f.readlines()\n"
   ]
  },
  {
   "cell_type": "code",
   "execution_count": 24,
   "metadata": {},
   "outputs": [],
   "source": [
    "sdot = [st.rstrip() for st in dot]"
   ]
  },
  {
   "cell_type": "code",
   "execution_count": 25,
   "metadata": {},
   "outputs": [],
   "source": [
    "sdot = [st for st in sdot if st != '']"
   ]
  },
  {
   "cell_type": "code",
   "execution_count": 46,
   "metadata": {},
   "outputs": [],
   "source": [
    "title_regex = re.compile('[\\d\\-\\.\\s]{2,13}[A-Z]+[A-Z\\-,\\s]*')\n",
    "code_regex = re.compile(\"\\d{3}.\\d{3}[-\\s]{1,2}\\d{3}\")"
   ]
  },
  {
   "cell_type": "code",
   "execution_count": 32,
   "metadata": {},
   "outputs": [],
   "source": [
    "definitions = {}\n",
    "code = 999\n",
    "definition = 'start'\n",
    "for line in sdot:\n",
    "    match = code_regex.search(line) \n",
    "    if match is not None:\n",
    "        definitions[code] = definition\n",
    "        definition = ''\n",
    "        code = match.group(0)\n",
    "    else:\n",
    "        definition += line\n"
   ]
  },
  {
   "cell_type": "code",
   "execution_count": 74,
   "metadata": {},
   "outputs": [],
   "source": [
    "class TitleParser:\n",
    "    def __init__(self):\n",
    "        self.title_regex = re.compile('^[\\d]{2}[\\-\\.\\s\\d]{0,11}[A-Z]+[A-Z\\-,\\s]*')\n",
    "        self.code_regex = re.compile(\"\\d{3}.\\d{3}[-\\s]{1,2}\\d{3}\")\n",
    "        self.name_regex = re.compile(\"[A-Z]+[\\-\\s,]*[A-Z]*\")\n",
    "        self.industry_regex = re.compile(\"\\([a-zA-Z\\s\\-\\.,;\\&]+\\)\")\n",
    "        \n",
    "    def is_title(self,line):\n",
    "        title_match = self.title_regex.search(line)\n",
    "        return title_match is not None\n",
    "    \n",
    "    def is_occ_title(self,title):\n",
    "        code_match = self.code_regex.search(title)\n",
    "        return code_match is not None\n",
    "    \n",
    "    def get_title(self,line):\n",
    "        title_match = self.title_regex.search(line)\n",
    "        return title_match.group(0)\n",
    "\n",
    "    def get_name(self,title):\n",
    "        name_match = self.name_regex.search(title)\n",
    "        return name_match.group(0)\n",
    "\n",
    "    def has_industry(self,title):\n",
    "        industry_match = self.industry_regex.search(title)\n",
    "        return industry_match is not None\n",
    "    \n",
    "    def get_industry(self, title):\n",
    "        industry_match = self.industry_regex.search(title)\n",
    "        return industry_match.group(0)\n",
    "    \n",
    "    def get_occ_code(self,title):\n",
    "        code_match = self.code_regex.search(title)\n",
    "        return code_match.group(0)\n",
    "        "
   ]
  },
  {
   "cell_type": "code",
   "execution_count": 78,
   "metadata": {},
   "outputs": [
    {
     "data": {
      "text/plain": [
       "649"
      ]
     },
     "execution_count": 78,
     "metadata": {},
     "output_type": "execute_result"
    }
   ],
   "source": [
    "tp = TitleParser()\n",
    "len([line for line in sdot if tp.is_title(line) and not tp.is_occ_title(line)])"
   ]
  },
  {
   "cell_type": "code",
   "execution_count": 76,
   "metadata": {},
   "outputs": [],
   "source": [
    "definitions = {}\n",
    "current_title = ''\n",
    "current_definition = ''\n",
    "tp = TitleParser()\n",
    "# Go line by line, if line is a title, start saving definition \n",
    "# until you come across another title. Once you come across another\n",
    "# title, check if current title is an occ title, if it is, add it to\n",
    "# dictionary, otherwise, discard\n",
    "for line in sdot:\n",
    "    if tp.is_title(line):\n",
    "        if tp.is_occ_title(current_title):\n",
    "            code = tp.get_occ_code(current_title)\n",
    "            name = tp.get_name(current_title)\n",
    "            definitions[code] = (name,definition)\n",
    "        current_title = tp.get_title(line)\n",
    "        current_definition = ''\n",
    "    else:\n",
    "        current_definition += line"
   ]
  },
  {
   "cell_type": "code",
   "execution_count": 77,
   "metadata": {
    "scrolled": true
   },
   "outputs": [
    {
     "data": {
      "text/plain": [
       "11973"
      ]
     },
     "execution_count": 77,
     "metadata": {},
     "output_type": "execute_result"
    }
   ],
   "source": [
    "len(definitions)"
   ]
  }
 ],
 "metadata": {
  "kernelspec": {
   "display_name": "Python 2",
   "language": "python",
   "name": "python2"
  },
  "language_info": {
   "codemirror_mode": {
    "name": "ipython",
    "version": 2
   },
   "file_extension": ".py",
   "mimetype": "text/x-python",
   "name": "python",
   "nbconvert_exporter": "python",
   "pygments_lexer": "ipython2",
   "version": "2.7.3"
  }
 },
 "nbformat": 4,
 "nbformat_minor": 2
}
